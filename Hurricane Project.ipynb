{
 "cells": [
  {
   "cell_type": "code",
   "execution_count": 2,
   "metadata": {},
   "outputs": [],
   "source": [
    "# names of hurricanes\n",
    "names = ['Cuba I', 'San Felipe II Okeechobee', 'Bahamas', 'Cuba II', 'CubaBrownsville', 'Tampico', 'Labor Day', 'New England', 'Carol', 'Janet', 'Carla', 'Hattie', 'Beulah', 'Camille', 'Edith', 'Anita', 'David', 'Allen', 'Gilbert', 'Hugo', 'Andrew', 'Mitch', 'Isabel', 'Ivan', 'Emily', 'Katrina', 'Rita', 'Wilma', 'Dean', 'Felix', 'Matthew', 'Irma', 'Maria', 'Michael']\n",
    "\n",
    "# months of hurricanes\n",
    "months = ['October', 'September', 'September', 'November', 'August', 'September', 'September', 'September', 'September', 'September', 'September', 'October', 'September', 'August', 'September', 'September', 'August', 'August', 'September', 'September', 'August', 'October', 'September', 'September', 'July', 'August', 'September', 'October', 'August', 'September', 'October', 'September', 'September', 'October']\n",
    "\n",
    "# years of hurricanes\n",
    "years = [1924, 1928, 1932, 1932, 1933, 1933, 1935, 1938, 1953, 1955, 1961, 1961, 1967, 1969, 1971, 1977, 1979, 1980, 1988, 1989, 1992, 1998, 2003, 2004, 2005, 2005, 2005, 2005, 2007, 2007, 2016, 2017, 2017, 2018]\n",
    "\n",
    "# maximum sustained winds (mph) of hurricanes\n",
    "max_sustained_winds = [165, 160, 160, 175, 160, 160, 185, 160, 160, 175, 175, 160, 160, 175, 160, 175, 175, 190, 185, 160, 175, 180, 165, 165, 160, 175, 180, 185, 175, 175, 165, 180, 175, 160]\n",
    "\n",
    "# areas affected by each hurricane\n",
    "areas_affected = [['Central America', 'Mexico', 'Cuba', 'Florida', 'The Bahamas'], ['Lesser Antilles', 'The Bahamas', 'United States East Coast', 'Atlantic Canada'], ['The Bahamas', 'Northeastern United States'], ['Lesser Antilles', 'Jamaica', 'Cayman Islands', 'Cuba', 'The Bahamas', 'Bermuda'], ['The Bahamas', 'Cuba', 'Florida', 'Texas', 'Tamaulipas'], ['Jamaica', 'Yucatn Peninsula'], ['The Bahamas', 'Florida', 'Georgia', 'The Carolinas', 'Virginia'], ['Southeastern United States', 'Northeastern United States', 'Southwestern Quebec'], ['Bermuda', 'New England', 'Atlantic Canada'], ['Lesser Antilles', 'Central America'], ['Texas', 'Louisiana', 'Midwestern United States'], ['Central America'], ['The Caribbean', 'Mexico', 'Texas'], ['Cuba', 'United States Gulf Coast'], ['The Caribbean', 'Central America', 'Mexico', 'United States Gulf Coast'], ['Mexico'], ['The Caribbean', 'United States East coast'], ['The Caribbean', 'Yucatn Peninsula', 'Mexico', 'South Texas'], ['Jamaica', 'Venezuela', 'Central America', 'Hispaniola', 'Mexico'], ['The Caribbean', 'United States East Coast'], ['The Bahamas', 'Florida', 'United States Gulf Coast'], ['Central America', 'Yucatn Peninsula', 'South Florida'], ['Greater Antilles', 'Bahamas', 'Eastern United States', 'Ontario'], ['The Caribbean', 'Venezuela', 'United States Gulf Coast'], ['Windward Islands', 'Jamaica', 'Mexico', 'Texas'], ['Bahamas', 'United States Gulf Coast'], ['Cuba', 'United States Gulf Coast'], ['Greater Antilles', 'Central America', 'Florida'], ['The Caribbean', 'Central America'], ['Nicaragua', 'Honduras'], ['Antilles', 'Venezuela', 'Colombia', 'United States East Coast', 'Atlantic Canada'], ['Cape Verde', 'The Caribbean', 'British Virgin Islands', 'U.S. Virgin Islands', 'Cuba', 'Florida'], ['Lesser Antilles', 'Virgin Islands', 'Puerto Rico', 'Dominican Republic', 'Turks and Caicos Islands'], ['Central America', 'United States Gulf Coast (especially Florida Panhandle)']]\n",
    "\n",
    "# damages (USD($)) of hurricanes\n",
    "damages = ['Damages not recorded', '100M', 'Damages not recorded', '40M', '27.9M', '5M', 'Damages not recorded', '306M', '2M', '65.8M', '326M', '60.3M', '208M', '1.42B', '25.4M', 'Damages not recorded', '1.54B', '1.24B', '7.1B', '10B', '26.5B', '6.2B', '5.37B', '23.3B', '1.01B', '125B', '12B', '29.4B', '1.76B', '720M', '15.1B', '64.8B', '91.6B', '25.1B']\n",
    "\n",
    "# deaths for each hurricane\n",
    "deaths = [90,4000,16,3103,179,184,408,682,5,1023,43,319,688,259,37,11,2068,269,318,107,65,19325,51,124,17,1836,125,87,45,133,603,138,3057,74]\n",
    "\n",
    "# write your greatest number of deaths function here:\n",
    "\n",
    "# write your catgeorize by mortality function here:\n",
    "\n",
    "# write your greatest damage function here:\n",
    "\n",
    "# write your catgeorize by damage function here:\n",
    "\n"
   ]
  },
  {
   "cell_type": "code",
   "execution_count": 3,
   "metadata": {},
   "outputs": [],
   "source": [
    "damages_updated = []\n",
    "\n",
    "def dam_update(lst):\n",
    "    for i in lst:\n",
    "        if i == 'Damages not recorded':\n",
    "            damages_updated.append(i)\n",
    "        elif i.count('B') == 1:\n",
    "            new_string2 = float(i[:-1]) * 1000000000 \n",
    "            damages_updated.append(new_string2)\n",
    "        else:\n",
    "            ns3 = float(i[:-1]) * 1000000\n",
    "            damages_updated.append(ns3)\n",
    "dam_update(damages)"
   ]
  },
  {
   "cell_type": "code",
   "execution_count": 4,
   "metadata": {},
   "outputs": [
    {
     "name": "stdout",
     "output_type": "stream",
     "text": [
      "{'Name': 'Mitch', 'Month': 'October', 'Year': 1998, 'Max Sustained Wind': 180, 'Areas Affected': ['Central America', 'Yucatn Peninsula', 'South Florida'], 'Damage': 6200000000.0, 'Deaths': 19325}\n"
     ]
    }
   ],
   "source": [
    "hurricane_dict = {}\n",
    "def dict_func(name, month, year, wind, area, damage, death):\n",
    "    for i in range(len(name)):\n",
    "        hurricane_dict.update({name[i]: {'Name': name[i], 'Month': month[i], 'Year': year[i], 'Max Sustained Wind': wind[i], 'Areas Affected': area[i], 'Damage': damage[i], 'Deaths': death[i]}})\n",
    "\n",
    "dict_func(names, months, years, max_sustained_winds, areas_affected, damages_updated, deaths)\n",
    "\n",
    "print(hurricane_dict['Mitch'])    "
   ]
  },
  {
   "cell_type": "code",
   "execution_count": 18,
   "metadata": {},
   "outputs": [],
   "source": [
    "def hurricane_year(dict):\n",
    "  new_dict ={}\n",
    "  for i in dict:\n",
    "    current_year = dict[i]['Year']\n",
    "    current_cane = dict[i]\n",
    "    if current_year in new_dict:\n",
    "      new_dict[current_year].append(current_cane)\n",
    "    else:\n",
    "      new_dict[current_year] = [current_cane]\n",
    "  return new_dict\n",
    "\n",
    "#print(hurricane_year(hurricane_dict))"
   ]
  },
  {
   "cell_type": "code",
   "execution_count": 6,
   "metadata": {},
   "outputs": [],
   "source": [
    "unique_areas = []\n",
    "def area_finder(lst):\n",
    "    for i in lst:\n",
    "        for x in i:\n",
    "            if x not in unique_areas:\n",
    "                unique_areas.append(x)\n",
    "area_finder(areas_affected)\n",
    "#print(unique_areas)"
   ]
  },
  {
   "cell_type": "code",
   "execution_count": 7,
   "metadata": {},
   "outputs": [],
   "source": [
    "area_impact = {}\n",
    "def area_impact_func(lst1, lst2):\n",
    "    for x in lst1:\n",
    "        area_impact.update({x: 0})\n",
    "        for i in lst2:\n",
    "            for a in i:\n",
    "                if a == x:\n",
    "                    area_impact[x] += 1\n",
    "                \n",
    "area_impact_func(unique_areas, areas_affected)\n",
    "#print(area_impact)"
   ]
  },
  {
   "cell_type": "code",
   "execution_count": 8,
   "metadata": {},
   "outputs": [
    {
     "name": "stdout",
     "output_type": "stream",
     "text": [
      "The hardest hit area is Central America, it has been hit 9 times.\n"
     ]
    }
   ],
   "source": [
    "def hard_hit(dict):\n",
    "    max_area = ''\n",
    "    max_area_count = 0\n",
    "    for i in dict:\n",
    "        if dict[i] > max_area_count:\n",
    "            max_area_count = dict[i]\n",
    "            max_area = i\n",
    "    return \"The hardest hit area is \" + max_area + \", it has been hit \" + str(max_area_count) + \" times.\"\n",
    "    #return max_area_count\n",
    "\n",
    "print(hard_hit(area_impact))\n",
    "    "
   ]
  },
  {
   "cell_type": "code",
   "execution_count": 9,
   "metadata": {},
   "outputs": [
    {
     "data": {
      "text/plain": [
       "'The Deadliest Hurricane was Mitch, with 19325 deaths.'"
      ]
     },
     "execution_count": 9,
     "metadata": {},
     "output_type": "execute_result"
    }
   ],
   "source": [
    "def death_count(dict):\n",
    "    death_area = ''\n",
    "    max_death_count = 0\n",
    "    for i in dict:\n",
    "        for x in dict[i]:\n",
    "            if x == 'Deaths':\n",
    "                if (dict[i])[x] > max_death_count:\n",
    "                    max_death_count = (dict[i])[x]\n",
    "                    death_area = (dict[i])['Name']\n",
    "    return \"The Deadliest Hurricane was \" + death_area + \", with \" + str(max_death_count) + \" deaths.\"\n",
    "\n",
    "death_count(hurricane_dict)"
   ]
  },
  {
   "cell_type": "code",
   "execution_count": 10,
   "metadata": {},
   "outputs": [],
   "source": [
    "def mortality_rating(dict):\n",
    "    temp = {}\n",
    "    temp.update(dict)\n",
    "    new_dict = {0: [], 1: [], 2:[], 3: [], 4: [], 5: []}\n",
    "    for i in temp:\n",
    "        for x in temp[i]:\n",
    "            if (x == 'Deaths') and ((temp[i])[x] == 0):\n",
    "                new_dict[0].append((temp[i]))\n",
    "            elif (x == 'Deaths') and ((temp[i])[x] <= 100):\n",
    "                new_dict[1].append((temp[i]))\n",
    "            elif (x == 'Deaths') and ((temp[i])[x] <= 500):\n",
    "                new_dict[2].append((temp[i]))\n",
    "            elif (x == 'Deaths') and ((temp[i])[x] <= 1000):\n",
    "                new_dict[3].append((temp[i]))\n",
    "            elif (x == 'Deaths') and ((temp[i])[x] <= 10000):\n",
    "                new_dict[4].append((temp[i]))\n",
    "            elif (x == 'Deaths') and ((temp[i])[x] > 10000):\n",
    "                new_dict[5].append((temp[i]))\n",
    "    return new_dict\n",
    "\n",
    "#mortality_rating(hurricane_dict)\n"
   ]
  },
  {
   "cell_type": "code",
   "execution_count": 14,
   "metadata": {},
   "outputs": [
    {
     "data": {
      "text/plain": [
       "'Katrina was the most costly hurricane with 125000000000.0 dollars worth of destruction.'"
      ]
     },
     "execution_count": 14,
     "metadata": {},
     "output_type": "execute_result"
    }
   ],
   "source": [
    "def damage_cost(dict):\n",
    "    damages = ''\n",
    "    max_damages = 0\n",
    "    for i in dict:\n",
    "        for x in dict[i]:\n",
    "            if x == 'Damage':\n",
    "                if (dict[i])[x] == 'Damages not recorded':\n",
    "                    continue\n",
    "                if (dict[i])[x] > max_damages:\n",
    "                    max_damages = (dict[i])[x]\n",
    "                    damages = (dict[i])['Name']\n",
    "    return damages + \" was the most costly hurricane with \" + str(max_damages) + \" dollars worth of destruction.\"\n",
    "\n",
    "damage_cost(hurricane_dict)"
   ]
  },
  {
   "cell_type": "code",
   "execution_count": 16,
   "metadata": {},
   "outputs": [],
   "source": [
    "def damage_scale(dict):\n",
    "    new_dict = {0: [], 1: [], 2:[], 3: [], 4: [], 5: []}\n",
    "    for i in dict:\n",
    "        for x in dict[i]:\n",
    "            if (x == 'Damage') and ((dict[i])[x] == 'Damages not recorded'):\n",
    "                new_dict[0].append((dict[i]))\n",
    "            elif (x == 'Damage') and ((dict[i])[x] <= 100000000):\n",
    "                new_dict[1].append((dict[i]))\n",
    "            elif (x == 'Damage') and ((dict[i])[x] <= 1000000000):\n",
    "                new_dict[2].append((dict[i]))\n",
    "            elif (x == 'Damage') and ((dict[i])[x] <= 10000000000):\n",
    "                new_dict[3].append((dict[i]))\n",
    "            elif (x == 'Damage') and ((dict[i])[x] <= 50000000000):\n",
    "                new_dict[4].append((dict[i]))\n",
    "            elif (x == 'Damage') and ((dict[i])[x] > 50000000000):\n",
    "                new_dict[5].append((dict[i]))\n",
    "    return new_dict\n",
    "\n",
    "#damage_scale(hurricane_dict)"
   ]
  },
  {
   "cell_type": "code",
   "execution_count": null,
   "metadata": {},
   "outputs": [],
   "source": []
  }
 ],
 "metadata": {
  "kernelspec": {
   "display_name": "Python 3",
   "language": "python",
   "name": "python3"
  },
  "language_info": {
   "codemirror_mode": {
    "name": "ipython",
    "version": 3
   },
   "file_extension": ".py",
   "mimetype": "text/x-python",
   "name": "python",
   "nbconvert_exporter": "python",
   "pygments_lexer": "ipython3",
   "version": "3.8.3"
  }
 },
 "nbformat": 4,
 "nbformat_minor": 4
}
